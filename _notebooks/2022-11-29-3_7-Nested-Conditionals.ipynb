{
 "cells": [
  {
   "cell_type": "markdown",
   "metadata": {},
   "source": [
    "# Unit 3 Lesson 7 Nested Conditionals\n",
    "\n",
    "- toc: true\n",
    "- branch: master\n",
    "- badges: true\n",
    "- comments: true\n",
    "- author: Ryan Hakimipour\n",
    "- categories: [fastpages, Big Idea 3]"
   ]
  },
  {
   "cell_type": "markdown",
   "metadata": {},
   "source": [
    "### Nested Conditional Statements\n",
    "\n",
    "- Nested Conditional Statements consist of conditional statements within conditional statements.\n",
    "- Flow Chart of a Nested Conditional Statement includes:\n",
    " ![]({{ site.baseurl }}/images/nestedconditional.png)"
   ]
  },
  {
   "cell_type": "markdown",
   "metadata": {},
   "source": [
    "## Format of a nested conditional in Pseudocode "
   ]
  },
  {
   "cell_type": "code",
   "execution_count": null,
   "metadata": {},
   "outputs": [],
   "source": [
    "IF (condition 1)\n",
    "{\n",
    "    <first block of statements>\n",
    "}\n",
    "ELSE\n",
    "{\n",
    "    IF (condition 2)\n",
    "    {\n",
    "        <second block of statements>\n",
    "    }\n",
    "    ELSE\n",
    "    {\n",
    "        <third block of statements>\n",
    "    }\n",
    "}"
   ]
  },
  {
   "cell_type": "markdown",
   "metadata": {},
   "source": [
    "## Below are some examples of nested conditionals."
   ]
  },
  {
   "cell_type": "code",
   "execution_count": null,
   "metadata": {},
   "outputs": [],
   "source": [
    "age = 19\n",
    "isGraduated = False\n",
    "hasLicense = True\n",
    "\n",
    "# Look if person is 18 years or older\n",
    "if age >= 18:\n",
    "    print(\"You're 18 or older. Welcome to adulthood!\")\n",
    "\n",
    "    if isGraduated:\n",
    "        print('Congratulations with your graduation!')\n",
    "    if hasLicense:\n",
    "        print('Happy driving!')"
   ]
  },
  {
   "cell_type": "code",
   "execution_count": null,
   "metadata": {},
   "outputs": [],
   "source": [
    "print(\"What is your grade on the quiz\")\n",
    "grade = int(input('What is your grade on the quiz'))\n",
    "if grade >= 90:\n",
    "    print(\"Awesome grade. You do not need to make up the quiz.\")\n",
    "else:\n",
    "    if grade >= 70:\n",
    "        print(\"You may retake the quiz next class for up to an A.\")\n",
    "    else:\n",
    "        print(\"We will review next class together and retake later.\")"
   ]
  },
  {
   "cell_type": "markdown",
   "metadata": {},
   "source": [
    "## Now you try it!"
   ]
  },
  {
   "cell_type": "code",
   "execution_count": null,
   "metadata": {},
   "outputs": [],
   "source": [
    " = ; \n",
    "if (): \n",
    "    print(\"\"); \n",
    "else: \n",
    "    print(\"\"); \n",
    "if (): \n",
    "    print(\"\"); \n",
    "else: \n",
    "    print(\"\"); \n",
    "if (): \n",
    "    print(\"\"); \n",
    "else:\n",
    "    print(\"\"); \n",
    "if (): \n",
    "    print(\"\"); \n",
    "else: \n",
    "    print(\"\"); "
   ]
  }
 ],
 "metadata": {
  "kernelspec": {
   "display_name": "Python 3.9.6 64-bit",
   "language": "python",
   "name": "python3"
  },
  "language_info": {
   "codemirror_mode": {
    "name": "ipython",
    "version": 3
   },
   "file_extension": ".py",
   "mimetype": "text/x-python",
   "name": "python",
   "nbconvert_exporter": "python",
   "pygments_lexer": "ipython3",
   "version": "3.9.6"
  },
  "orig_nbformat": 4,
  "vscode": {
   "interpreter": {
    "hash": "31f2aee4e71d21fbe5cf8b01ff0e069b9275f58929596ceb00d14d90e3e16cd6"
   }
  }
 },
 "nbformat": 4,
 "nbformat_minor": 2
}
