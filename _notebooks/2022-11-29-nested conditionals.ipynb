{
 "cells": [
  {
   "cell_type": "markdown",
   "metadata": {},
   "source": [
    "### Nester Conditional Statements\n",
    "- Nested Conditional Statements consist of conditional statements within conditional statements.\n",
    "- Flow Chart of a Nested Conditional Statement includes:\n",
    " ![]({{ site.baseurl }}/images/nestedconditional.png)"
   ]
  },
  {
   "cell_type": "markdown",
   "metadata": {},
   "source": [
    "# Example for Nested Conditionals include: if conditionA: # Code here executes when ‘conditionA’ is True else: # Code that runs when ‘conditionA’ is False\n",
    "if conditionB: # Code that runs when ‘conditionA’ is False # and ‘conditionB’ is True\n",
    "Example of code: age = 19 isGraduated = False hasLicense = True\n"
   ]
  },
  {
   "cell_type": "markdown",
   "metadata": {},
   "source": [
    "# Look if person is 18 years or older\n",
    "if age >= 18: print(“You’re 18 or older. Welcome to adulthood!”)\n",
    "\n"
   ]
  },
  {
   "cell_type": "code",
   "execution_count": null,
   "metadata": {},
   "outputs": [],
   "source": [
    "if isGraduated:\n",
    "    print('Congratulations with your graduation!')\n",
    "if hasLicense:\n",
    "    print('Happy driving!') - If Else Statements can be put inside of another if else statement using this layout for psuedo code."
   ]
  },
  {
   "cell_type": "markdown",
   "metadata": {},
   "source": [
    "if (condition 1) if (condition 2) first block of statement else second block of statement else if (condition 3) third block of statement else fourth block of statement\n",
    "\n"
   ]
  },
  {
   "cell_type": "markdown",
   "metadata": {},
   "source": [
    "Quick Easy Challenge"
   ]
  }
 ],
 "metadata": {
  "kernelspec": {
   "display_name": "Python 3.9.6 64-bit",
   "language": "python",
   "name": "python3"
  },
  "language_info": {
   "name": "python",
   "version": "3.9.6"
  },
  "orig_nbformat": 4,
  "vscode": {
   "interpreter": {
    "hash": "31f2aee4e71d21fbe5cf8b01ff0e069b9275f58929596ceb00d14d90e3e16cd6"
   }
  }
 },
 "nbformat": 4,
 "nbformat_minor": 2
}
