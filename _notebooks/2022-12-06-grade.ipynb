{
 "cells": [
  {
   "cell_type": "markdown",
   "metadata": {},
   "source": [
    "# Grades"
   ]
  },
  {
   "cell_type": "markdown",
   "metadata": {},
   "source": [
    "| Name| Grade | Comment |\n",
    "| ----| -----| ---------|\n",
    "| Agarwal, Rohan  | - | No submission |\n",
    "| Albertson, Christopher S. | 0.8 | The code has an input and some of the code is changed for the binary conversion. However, there aren't any new functions that were added to the code. |\n",
    "| Beg, Mirza H. | - | No submission |\n",
    "| Carcamo, Orlando J. | - | No submission |\n",
    "| Chilla, Prasith M. | 0.7 | The code is the same as the one given from the fastpages but had the input also turned in late which gave a .7. |\n",
    "| Deng, Zeen | 0.9 | The program has added code that works to form another function. The added code uses if statement and binary correctly which also shows understanding. |\n",
    "| Garrett, Dylan C. | - | No submission |\n",
    "| Gaurav, Ananya | 0.95 | All of the code was recreated and was explained thoroughly. This shows great understanding of the code created. Input was also added as well as a function converting text to binary, showing greater understanding. |\n",
    "| Gautam, Vyaan | - | No submission |\n",
    "| Goel, Shivansh T. | Presented |  |\n",
    "| Grewal, Noor K | 0.9 | They got this grade since they did the task that was asked of them. The code was their own which gave them the .9 |\n",
    "| Hakimipour, Ryan | Presented |  |\n",
    "| Jaisankar Gnanam, Harshavaratan | 0.8 | They got this grade since they did the task that was asked of them but used the same piece of code given to them. Extra credit that was done doesn’t give them anything since it was copied from other students. |\n",
    "| Kim, Nathan S. | 1 | Although the code is the same as the one given to them he made the dec to bin converter also using frontend code. |\n",
    "| Kim, Tay E. | 0.9 | They got this grade because they fully completed the homework assignment and using their own code. |\n",
    "| Lee, Dillon W. | 0.9 | They got his grade since they fully completed the homework assignment using their own code. |\n",
    "| Lu, Alexander Y. | 1 | They got this grade since they one created the dec to bin converter like asked and also made a letter to bin converter, a octal representation of a number, and a Hexadecimal representation of number |\n",
    "| Malayath, Shruthi | 0.93 | They got this grade since they used original code when making the dec to bin converter and the also made another one using while loops which was done for extra credit |\n",
    "| Mills, Colin J. | 0.95 | They got this grad since they used original code when making the dec to bin converter and also record the length of the bin value telling you the bit length |\n",
    "| Mir, Emaad I. | 0.9 | They got this grade because they completed the necessary homework assignment as well as including all the completed and correct challenges which was extra than what was necessary. |\n",
    "| Moore, Lucas E. | presented |  |\n",
    "| Nawandhar, Aditya A. | 1 | Completed the necessary hacks with their own code and added extra with hexadecimal |\n",
    "| Nguyen, Jaden T. | 0.9 | Completed the necessary hacks but did not do anything above or extra |\n",
    "| Okimoto, Keira S. | 1 | Completed the necessary hacks and went above and beyond the necessary criteria. Created own code with multiple inputs and loops that weren’t required. |\n",
    "| Patil, Tanisha A. | 0.9 | Completed the necessary requirements of the homework |\n",
    "| Ramamurthy, Chinmay D. | 0.9 | Completed the necessary requirements of homework but did nothing extra. | \n",
    "| Reed, Andrew S. | - | No submission |\n",
    "| Ringler, Alyssa L. | - | No submission |\n",
    "| Ruiz, Adan J. | 0.8 | This just adds some irrelevant code that does not change the code |\n",
    "| Sarurkar, Shreyas V. | 0.7 | This code does not change anything whatsoever |\n",
    "| Savlani, Jiya P. | 0.9 | The code has all the hacks incorporated and was their own code. |\n",
    "| Sommers, Sabine B. | 0.85 | The code is theirs and fully accomplishes the task except there is no input which is why they got below a .9 |\n",
    "| Tang, Aliya W. | 0.95 | The code is fully theirs and they also added their a dec to octal converter |\n",
    "| Tang, Sophia H. | 0.9 | The code is fully theirs and fully accomplishes the task given |\n",
    "| Tong, Haoxuan | Presented |  |\n",
    "| Tullius, Max D. | 0.9 | The code is fully theirs and fully accomplishes the task given |\n",
    "| Wu, Lily | 1 | The given code was really impressive using conditionals and also made it so you can keep inputting dec number changing them into bin and the user could choose when they wanted to stop |\n",
    "| Zhao, Ethan Y. | - | No submission |"
   ]
  }
 ],
 "metadata": {
  "kernelspec": {
   "display_name": "Python 3.9.6 64-bit",
   "language": "python",
   "name": "python3"
  },
  "language_info": {
   "name": "python",
   "version": "3.9.6"
  },
  "orig_nbformat": 4,
  "vscode": {
   "interpreter": {
    "hash": "31f2aee4e71d21fbe5cf8b01ff0e069b9275f58929596ceb00d14d90e3e16cd6"
   }
  }
 },
 "nbformat": 4,
 "nbformat_minor": 2
}
