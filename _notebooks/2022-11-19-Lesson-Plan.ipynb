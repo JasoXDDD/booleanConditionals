{
 "cells": [
  {
   "cell_type": "markdown",
   "metadata": {},
   "source": [
    "# Booleans and Conditionals Lesson Plan\n",
    "> The Lesson Plan for our lesson\n",
    "- toc: true \n",
    "- badges: true\n",
    "- comments: true\n",
    "- categories: [jupyter]\n",
    "- image: images/chart-preview.png"
   ]
  },
  {
   "cell_type": "markdown",
   "metadata": {},
   "source": [
    "## Introduction to the Lesson\n",
    "Go over the basics of Booleans, (Linking it to Binary)\n",
    "True and False - 1 and 0\n",
    "Introduce to flow control and use of flowchart"
   ]
  },
  {
   "cell_type": "markdown",
   "metadata": {},
   "source": [
    "## Important Vocabulary\n",
    "* Boolean\n",
    "* Relational Operator\n",
    "* Logical Operator\n",
    "* Conditional\n",
    "* Nested Conditionals"
   ]
  },
  {
   "cell_type": "markdown",
   "metadata": {},
   "source": [
    "## Boolean Operators\n",
    "Boolean operators produces booleans after it is used between two values"
   ]
  },
  {
   "cell_type": "markdown",
   "metadata": {},
   "source": [
    "### Relational Operators\n",
    "Relational Operators can work between any two values of the same type known as operands, provided that the type supports such types of operators\n",
    "They consist of the operators ==, !=, >, <, >=, <="
   ]
  },
  {
   "cell_type": "code",
   "execution_count": 14,
   "metadata": {},
   "outputs": [
    {
     "name": "stdout",
     "output_type": "stream",
     "text": [
      "4==4: True\n",
      "2==3: False\n",
      "1!=0: True\n",
      "7>3: True\n",
      "5<6: True\n",
      "7>=8: False\n",
      "3<=3: True\n",
      "\n",
      "\"as\"==\"as\": True\n",
      "True==False: False\n",
      "[2,3,1]!=[2,3,1]: False\n",
      "\n",
      "'af'<'bc': True\n",
      "'ce'>'cf': False\n",
      "[1,'b']>=[1,'a']: True\n",
      "\n",
      "[1,'a',3]<[1,'b','c']: True\n"
     ]
    }
   ],
   "source": [
    "# Usage of Relational operators on int\n",
    "print(\"4==4:\",4==4)\n",
    "print(\"2==3:\",2==3)\n",
    "print(\"1!=0:\",1!=0)\n",
    "print(\"7>3:\",7>3)\n",
    "print(\"5<6:\",5<6)\n",
    "print(\"7>=8:\",7>=8)\n",
    "print(\"3<=3:\",3<=3)\n",
    "print('')\n",
    "\n",
    "# == operator works on many other types as well (!= as well)\n",
    "print('\"as\"==\"as\":',\"as\"==\"as\")\n",
    "print(\"True==False:\",True==False)\n",
    "print(\"[2,3,1]!=[2,3,1]:\",[2,3,1]!=[2,3,1])\n",
    "print('')\n",
    "\n",
    "# Surprisingly, >, <, >=, <= works for strings and lists as well, the way they work is by comparing the first part, and if the first part doesn't give a answer, go to the next one\n",
    "print(\"'af'<'bc':\",'af'<'bc')\n",
    "print(\"'ce'>'cf':\",'ce'>'cf')\n",
    "print(\"[1,'b']>=[1,'a']:\",[1,'b']>=[1,'a']) # It works for lists that have the same type at same indices that are being compared as well\n",
    "print('')\n",
    "\n",
    "# They don't work between two values of the same type\n",
    "# print(1<'a') returns a type error\n",
    "\n",
    "# However, if two values inside a list at the same indexs have different types, but are not considered (the previous values already determine the results) then a comparison can be made\n",
    "print(\"[1,'a',3]<[1,'b','c']:\",[1,'a',3]<[1,'b','c'])"
   ]
  },
  {
   "cell_type": "markdown",
   "metadata": {},
   "source": [
    "### Logical Operators\n",
    "These are operators that works on operand(s) to produce a single boolean result. Examples include and, or, not.\n",
    "and returns true when both operands around it is true\n",
    "or returns true when at least one of its operands is true\n",
    "not returns true when the boolean after it is false"
   ]
  },
  {
   "cell_type": "code",
   "execution_count": 19,
   "metadata": {},
   "outputs": [
    {
     "name": "stdout",
     "output_type": "stream",
     "text": [
      "False and False is False\n",
      "False and True is False\n",
      "True and False is False\n",
      "True and True is True\n",
      "\n",
      "False or False is False\n",
      "False or True is True\n",
      "True or False is True\n",
      "True or True is True\n",
      "\n",
      "not False is True\n",
      "not True is False\n"
     ]
    }
   ],
   "source": [
    "# results of and given all of its possible operands\n",
    "for i in [False, True]:\n",
    "    for j in [False, True]:\n",
    "        print(i,\"and\",j,\"is\",i and j)\n",
    "print(\"\")\n",
    "\n",
    "# results of or given all of its possible operands\n",
    "for i in [False, True]:\n",
    "    for j in [False, True]:\n",
    "        print(i,\"or\",j,\"is\",i or j)\n",
    "print(\"\")\n",
    "\n",
    "# results of not given all of its possible operands\n",
    "for i in [False, True]:\n",
    "        print(\"not\",i,\"is\", not i)"
   ]
  },
  {
   "cell_type": "markdown",
   "metadata": {},
   "source": [
    "### Combination of Relational and Logical Operators and the Procedure of Operations\n",
    "Relational and Logical Operators can work by a set of precedece, a set of order that the computer understands the operations on.\n",
    "Relational Operators goes first, and then Logical operators work in order of not, and, or\n",
    "as usual, things in the parenthesis takes precedence over others"
   ]
  },
  {
   "cell_type": "code",
   "execution_count": 6,
   "metadata": {},
   "outputs": [
    {
     "name": "stdout",
     "output_type": "stream",
     "text": [
      "3 > 2 and True: True\n",
      "not 4 < 6: False\n",
      "6 > 7 or 3<1: False\n",
      "not 5<6 and True or False: False\n"
     ]
    }
   ],
   "source": [
    "print(\"3 > 2 and True:\", 3 > 2 and True)\n",
    "print(\"not 4 < 6:\", not 4 < 6)\n",
    "print(\"6 > 7 or 3<1:\", 6 > 7 or 3 < 1)\n",
    "# The relational expressions is evaluated first\n",
    "\n",
    "print(\"not 5<6 and True or False:\",not 5<6 and True or False)\n",
    "# 5<6 is translated to True first\n",
    "# then not translates not 5<6 to False\n",
    "# then and translates not 5<6 and True to False\n",
    "# then or translates not 5<6 and True or False to False"
   ]
  }
 ],
 "metadata": {
  "kernelspec": {
   "display_name": "Python 3.8.10 64-bit",
   "language": "python",
   "name": "python3"
  },
  "language_info": {
   "codemirror_mode": {
    "name": "ipython",
    "version": 3
   },
   "file_extension": ".py",
   "mimetype": "text/x-python",
   "name": "python",
   "nbconvert_exporter": "python",
   "pygments_lexer": "ipython3",
   "version": "3.8.10"
  },
  "orig_nbformat": 4,
  "vscode": {
   "interpreter": {
    "hash": "916dbcbb3f70747c44a77c7bcd40155683ae19c65e1c03b4aa3499c5328201f1"
   }
  }
 },
 "nbformat": 4,
 "nbformat_minor": 2
}
