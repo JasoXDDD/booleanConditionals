{
 "cells": [
  {
   "cell_type": "markdown",
   "metadata": {},
   "source": [
    "# Nested Conditional Statements\n",
    "- Nested Conditional Statements consist of conditional statemetns within conditional statements.\n",
    "- Flow Chart of a Nested Conditional Statement includes: \n",
    "<img src='{{ \"/images/nestedconditional.PNG\" | relative_url }}' width='480' alt='Here is the the 3 quizes that I took'>"
   ]
  },
  {
   "cell_type": "code",
   "execution_count": null,
   "metadata": {},
   "outputs": [],
   "source": [
    "# Example for Nested Conditionals include:\n",
    "if conditionA:\n",
    "    # Code here executes when 'conditionA' is True\n",
    "else:\n",
    "    # Code that runs when 'conditionA' is False\n",
    "\n",
    "    if conditionB:\n",
    "        # Code that runs when 'conditionA' is False\n",
    "        # and 'conditionB' is True"
   ]
  },
  {
   "cell_type": "code",
   "execution_count": null,
   "metadata": {},
   "outputs": [],
   "source": [
    "# input the age\n",
    "n=int(input('Enter marks: '))\n",
    "\n",
    "# checking the conditions\n",
    "if  n>=75:\n",
    "    if n >=95:\n",
    "        print('Excellent')\n",
    "    else:\n",
    "        print('Pass')\n",
    "else:\n",
    "    print('Fail')"
   ]
  },
  {
   "cell_type": "markdown",
   "metadata": {},
   "source": [
    "- If Else Statements can be put inside of another if else statement using this layout for psuedo code.\n"
   ]
  },
  {
   "cell_type": "markdown",
   "metadata": {},
   "source": [
    "if (condition 1)\n",
    "    if (condition 2)\n",
    "        first block of statement\n",
    "    else \n",
    "        second block of statement\n",
    "else\n",
    "    if (condition 3)\n",
    "        third block of statement\n",
    "    else \n",
    "        fourth block of statement"
   ]
  },
  {
   "cell_type": "markdown",
   "metadata": {},
   "source": [
    "Challenge: Create your own Nested Conditional, with a if statement inside the else code of an if/else statement."
   ]
  },
  {
   "cell_type": "code",
   "execution_count": null,
   "metadata": {},
   "outputs": [],
   "source": [
    "### Code Here"
   ]
  }
 ],
 "metadata": {
  "kernelspec": {
   "display_name": "Python 3.9.6 64-bit",
   "language": "python",
   "name": "python3"
  },
  "language_info": {
   "codemirror_mode": {
    "name": "ipython",
    "version": 3
   },
   "file_extension": ".py",
   "mimetype": "text/x-python",
   "name": "python",
   "nbconvert_exporter": "python",
   "pygments_lexer": "ipython3",
   "version": "3.9.6"
  },
  "orig_nbformat": 4,
  "vscode": {
   "interpreter": {
    "hash": "31f2aee4e71d21fbe5cf8b01ff0e069b9275f58929596ceb00d14d90e3e16cd6"
   }
  }
 },
 "nbformat": 4,
 "nbformat_minor": 2
}
