{
 "cells": [
  {
   "cell_type": "markdown",
   "metadata": {},
   "source": [
    "# Unit 3 Lesson 5 Booleans Expressions\n",
    "\n",
    "- toc: true\n",
    "- branch: master\n",
    "- badges: true\n",
    "- comments: true\n",
    "- author: Haoxuan Tong\n",
    "- categories: [fastpages, Big Idea 3]"
   ]
  },
  {
   "cell_type": "markdown",
   "metadata": {},
   "source": [
    "## Introduction to the Lesson\n",
    "Booleans are like binary, having 2 possible values, but in Boolean, True is 1 and False is 0. By using boolean operators, a boolean value can be produced."
   ]
  },
  {
   "cell_type": "markdown",
   "metadata": {},
   "source": [
    "## Important Vocabulary\n",
    "* Boolean\n",
    "* Relational Operator\n",
    "* Logical Operator"
   ]
  },
  {
   "cell_type": "markdown",
   "metadata": {},
   "source": [
    "## Boolean Operators\n",
    "Boolean operators produces booleans after it is used between two values"
   ]
  },
  {
   "cell_type": "markdown",
   "metadata": {},
   "source": [
    "### Relational Operators\n",
    "Relational Operators can work between any two values of the same type known as operands, provided that the type supports such types of operators\n",
    "They consist of the operators ==, !=, >, <, >=, <=, each one working the same way that they work as one would expect, with == being the replacement for equal to, since = is reserved for value assignments.\n",
    "\n",
    "They also work on other types, such as string or list, and values at each index is compared in order to determine which one is greater\n",
    "for example: \"abg\"<\"acd\" returns True, since the computer first goes to a and a, after they are the same, they go to b and c, and since c is \"greater\" than b, \"acd\" is greater than \"abg\"  "
   ]
  },
  {
   "cell_type": "code",
   "execution_count": null,
   "metadata": {},
   "outputs": [],
   "source": [
    "# Insert a relational operator to print the wanted value (Using each expression once)\n",
    "print(\"True:\",44)\n",
    "print(\"True:\",10)\n",
    "print(\"False:\",73)\n",
    "print(\"True:\",56)\n",
    "print(\"False:\",78)\n",
    "print(\"True:\",33)\n",
    "print('')\n",
    "\n",
    "# Same as above, but now for other values other than int\n",
    "print('True:',\"as\"\"as\")\n",
    "print(\"False\",TrueFalse)\n",
    "print(\"False:\",[2,3,1][2,3,1])\n",
    "print(\"True:\",'af''bc')\n",
    "print(\"False:\",'ce''cf')\n",
    "print(\"True:\",[1,'b'][1,'a'])\n",
    "print('')\n"
   ]
  },
  {
   "cell_type": "markdown",
   "metadata": {},
   "source": [
    "### Logical Operators\n",
    "These are operators that works on operand(s) to produce a single boolean result. Examples include and, or, not.\n",
    "\n",
    "and returns true when both operands around it is true.\n",
    "\n",
    "or returns true when at least one of its operands is true.\n",
    "\n",
    "not returns true when the boolean after it is false.\n",
    "\n",
    "They work the same way in binary, returning a specific value after specific inputs that is shown in a Truth Table\n",
    "![Truth Table](/images/truth-table.png)"
   ]
  },
  {
   "cell_type": "code",
   "execution_count": null,
   "metadata": {},
   "outputs": [],
   "source": [
    "# Same as above, but use each of the three operators twice\n",
    "print(\"True:\", TrueFalse)\n",
    "print(\"False:\",  True)\n",
    "print(\"True:\", TrueTrue)\n",
    "print(\"False:\",  True)\n",
    "print(\"False:\", TrueFalse)\n",
    "print(\"True:\",  False)"
   ]
  },
  {
   "cell_type": "markdown",
   "metadata": {},
   "source": [
    "### Combination of Relational and Logical Operators and the Procedure of Operations\n",
    "Relational and Logical Operators can work by a set of precedece, a set of order that the computer understands the operations on.\n",
    "\n",
    "Relational Operators goes first, and then Logical operators work in order of not, and, or\n",
    "\n",
    "as usual, things in the parenthesis takes precedence over others"
   ]
  },
  {
   "cell_type": "code",
   "execution_count": null,
   "metadata": {},
   "outputs": [],
   "source": [
    "# Using each of the operators at most once, make the following statement print True\n",
    "print(334657)"
   ]
  }
 ],
 "metadata": {
  "kernelspec": {
   "display_name": "Python 3.9.6 64-bit",
   "language": "python",
   "name": "python3"
  },
  "language_info": {
   "codemirror_mode": {
    "name": "ipython",
    "version": 3
   },
   "file_extension": ".py",
   "mimetype": "text/x-python",
   "name": "python",
   "nbconvert_exporter": "python",
   "pygments_lexer": "ipython3",
   "version": "3.8.10"
  },
  "orig_nbformat": 4,
  "vscode": {
   "interpreter": {
    "hash": "31f2aee4e71d21fbe5cf8b01ff0e069b9275f58929596ceb00d14d90e3e16cd6"
   }
  }
 },
 "nbformat": 4,
 "nbformat_minor": 2
}
