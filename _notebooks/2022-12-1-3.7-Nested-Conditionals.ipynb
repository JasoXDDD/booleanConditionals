{
 "cells": [
  {
   "cell_type": "markdown",
   "metadata": {},
   "source": [
    "# Unit 3 Lesson 7 Nested Conditionals\n",
    "\n",
    "- toc: true\n",
    "- branch: master\n",
    "- badges: true\n",
    "- comments: true\n",
    "- author: Shivansh Goel\n",
    "- categories: [fastpages, Big Idea 3]\n",
    "- image: images/nestedconditional.png"
   ]
  },
  {
   "cell_type": "markdown",
   "metadata": {},
   "source": [
    "# Nested Conditional Statements\n",
    "- Nested Conditional Statements consist of conditional statemetns within conditional statements.\n",
    "- Flow Chart of a Nested Conditional Statement includes: \n",
    "<img src='{{ \"/images/nestedconditional.png\" | relative_url }}' width='480' alt='Coding picture 1'>"
   ]
  },
  {
   "cell_type": "code",
   "execution_count": null,
   "metadata": {},
   "outputs": [],
   "source": [
    "# Example for Nested Conditionals include:\n",
    "if conditionA:\n",
    "    # Code here executes when 'conditionA' is True\n",
    "else:\n",
    "    # Code that runs when 'conditionA' is False\n",
    "\n",
    "    if conditionB:\n",
    "        # Code that runs when 'conditionA' is False\n",
    "        # and 'conditionB' is True"
   ]
  },
  {
   "cell_type": "markdown",
   "metadata": {},
   "source": [
    "### Example of nested conditional in python:"
   ]
  },
  {
   "cell_type": "code",
   "execution_count": null,
   "metadata": {},
   "outputs": [],
   "source": [
    "# input the age\n",
    "n=int(input('Enter marks: '))\n",
    "\n",
    "# checking the conditions\n",
    "if  n>=75:\n",
    "    if n >=95:\n",
    "        print('Excellent')\n",
    "    else:\n",
    "        print('Pass')\n",
    "else:\n",
    "    print('Fail')"
   ]
  },
  {
   "cell_type": "markdown",
   "metadata": {},
   "source": [
    "- If Else Statements can be put inside of another if else statement using this layout for psuedo code.\n"
   ]
  },
  {
   "cell_type": "code",
   "execution_count": null,
   "metadata": {},
   "outputs": [],
   "source": [
    "#Pusedo Code Example\n",
    "if (condition 1)\n",
    "    if (condition 2)\n",
    "        #first block of statement\n",
    "    else \n",
    "        #second block of statement\n",
    "else\n",
    "    if (condition 3)\n",
    "        #third block of statement\n",
    "    else \n",
    "        #fourth block of statement"
   ]
  },
  {
   "cell_type": "markdown",
   "metadata": {},
   "source": [
    "### Challenge #1: Create your own Nested Conditional, with a if/else statement inside the else code of an if/else statement."
   ]
  },
  {
   "cell_type": "code",
   "execution_count": null,
   "metadata": {},
   "outputs": [],
   "source": [
    "### Make changes to anything even the format, this is just a base format for the code\n",
    "def function(x, y, z):\n",
    "    if()\n",
    "    #Code here\n",
    "        if()\n",
    "        #Code here\n",
    "        else \n",
    "        #Code here\n",
    "    else\n",
    "        if()\n",
    "        #Code here\n",
    "        else\n",
    "        #Code here\n"
   ]
  },
  {
   "cell_type": "markdown",
   "metadata": {},
   "source": [
    "### Challenge #2: Create your own Nested Conditional with operators and comparing values\n",
    "Ex: \n",
    "<img src='{{ \"/images/pythonconditional.png\" | relative_url }}' width='480' alt='Coding picture 1'>"
   ]
  },
  {
   "cell_type": "code",
   "execution_count": null,
   "metadata": {},
   "outputs": [],
   "source": [
    "### Code Challenge 2 Here:"
   ]
  }
 ],
 "metadata": {
  "kernelspec": {
   "display_name": "Python 3.8.10 64-bit",
   "language": "python",
   "name": "python3"
  },
  "language_info": {
   "name": "python",
   "version": "3.8.10"
  },
  "orig_nbformat": 4,
  "vscode": {
   "interpreter": {
    "hash": "916dbcbb3f70747c44a77c7bcd40155683ae19c65e1c03b4aa3499c5328201f1"
   }
  }
 },
 "nbformat": 4,
 "nbformat_minor": 2
}
